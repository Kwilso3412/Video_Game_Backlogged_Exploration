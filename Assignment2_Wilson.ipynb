{
 "cells": [
  {
   "cell_type": "markdown",
   "id": "dd83ad4c",
   "metadata": {},
   "source": [
    "# Assignment #2 - Data Gathering and Warehousing - DSSA-5102"
   ]
  },
  {
   "cell_type": "markdown",
   "id": "82f5c357",
   "metadata": {},
   "source": [
    "Instructor: Melissa Laurino</br>\n",
    "Spring 2024</br></br>\n",
    "Name: Kahlyll Wilson</br>\n",
    "Date: 28 Jan 2023"
   ]
  },
  {
   "cell_type": "markdown",
   "id": "c9caf54a",
   "metadata": {},
   "source": [
    "Our next objective is to choose <b>ONE</b> of the datasets from our previous assignment to explore further. The datasets we have chose for Assignment #1 are managable to clean in R (Or Python if that is what you prefer to explore, see the technology check for working with Python in R in Jupyter notebook). Depending on your data, and especially the size of it, it may be more beneficial to clean in a language we are comfortable working in already instead of cleaning our data in SQL. SQL may be needed for cleaning of databases that are very large or hundreds of terabytes in size. We will clean our datasets first before we attempt to load them into our SQL databases. </br>\n",
    "Not only is data everywhere, but it can also be messy. Messy data can originate in the data collection process, whether this is occurring with manual data entry and typos, or with outdated collection forms that hold multiple variables that mean the same thing. For example, while collecting data on marine mammals, it is important to note who the observer is. With Python and R, reading excel or csv files, these languages will take the same variable written as, \"Melissa Laurino\" and \"melissa laurino\" as two separate observers because they are case sensitive. However, this is not accurate because they are meant to be the same person within the observer column or category.</br>\n",
    "Clean data is important for consistency that leads to accurate results and analysis. If we are using our data to make informed decisions in our field, we need it to be clean. We do not want to omit rows that may make a difference to our dataset because they do not fit a certain criteria due to typos, but how much should the original dataset be altered? Depending on your field, there may be regulations and compliance standards regarding data quality. Protocols may state if the data does not read exactly how it should be, then it should be ommitted. </br>\n",
    "For our learning objectives in this class, we will clean our data. Our first assignment in our warehousing journey was important because it allowed us to gain a better understanding of a dataset that we personally did not collect. Now that we have that understanding, we can explore it in greater depth and clean it as necessary.<br>\n",
    "<br>\n",
    "It is important when cleaning data to: <br>\n",
    "*Make detailed comments with your code* <br>\n",
    "*Record EVERYTHING ommitted and changed if necessary* <br>\n",
    "*Since we are exploring and learning without a specific organization policy, use your best judgement when ommitting records. If you have chosen to ommit data, please explain why.*</br>\n",
    "<br>\n",
    "<b>The code that I have written below is just to give you ideas on exploring and cleaning data. It is encouraged that you explore and clean it in greater detail than what I have written below for full credit.</b><br>\n",
    "Additional examples: https://epirhandbook.com/en/cleaning-data-and-core-functions.html"
   ]
  },
  {
   "cell_type": "markdown",
   "id": "1f29bba7",
   "metadata": {},
   "source": [
    "<b>Dataset name:</b><br>\n",
    "<b>Company/Government Organization:</b><br>\n",
    "Download link:"
   ]
  },
  {
   "cell_type": "markdown",
   "id": "f49eb1b9",
   "metadata": {},
   "source": [
    "Load necessary libraries:"
   ]
  },
  {
   "cell_type": "code",
   "execution_count": 1,
   "id": "19aaec1b",
   "metadata": {},
   "outputs": [
    {
     "name": "stderr",
     "output_type": "stream",
     "text": [
      "Registered S3 methods overwritten by 'ggplot2':\n",
      "  method         from \n",
      "  [.quosures     rlang\n",
      "  c.quosures     rlang\n",
      "  print.quosures rlang\n",
      "Registered S3 method overwritten by 'rvest':\n",
      "  method            from\n",
      "  read_xml.response xml2\n",
      "-- Attaching packages --------------------------------------- tidyverse 1.2.1 --\n",
      "v ggplot2 3.1.1       v purrr   0.3.2  \n",
      "v tibble  2.1.1       v dplyr   0.8.0.1\n",
      "v tidyr   0.8.3       v stringr 1.4.0  \n",
      "v readr   1.3.1       v forcats 0.4.0  \n",
      "-- Conflicts ------------------------------------------ tidyverse_conflicts() --\n",
      "x dplyr::filter() masks stats::filter()\n",
      "x dplyr::lag()    masks stats::lag()\n",
      "\n",
      "Attaching package: 'lubridate'\n",
      "\n",
      "The following object is masked from 'package:base':\n",
      "\n",
      "    date\n",
      "\n"
     ]
    }
   ],
   "source": [
    "#My example libraries are below, but edit as needed to fit your dataset:\n",
    "#install.packages(\"tidyverse\") Use install.packages() to install any necessary libraries.\n",
    "library(tidyverse) #Reading data\n",
    "library(lubridate) #Reading and manipulating dates and times\n",
    "library(readr) #Reading the CSV data file\n",
    "\n",
    "#Be sure to document each line of code like the above example.\n",
    "#Documenting each line of code is helpful when revisiting assignments later in the semester."
   ]
  },
  {
   "cell_type": "markdown",
   "id": "2ce47a72",
   "metadata": {},
   "source": [
    "Load data into R:"
   ]
  },
  {
   "cell_type": "code",
   "execution_count": 2,
   "id": "8ec0dfd0",
   "metadata": {},
   "outputs": [],
   "source": [
    "# Load in the data set\n",
    "games_data = read.csv(\"C:\\\\Users\\\\kahsw\\\\OneDrive\\\\Desktop\\\\course_major\\\\Masters\\\\3 Spring 2024\\\\Data gathering and warehousing\\\\week one\\\\Assignment one\\\\games.csv\"\n",
    ")"
   ]
  },
  {
   "cell_type": "markdown",
   "id": "cd089937",
   "metadata": {},
   "source": [
    "Exploration before cleaning:"
   ]
  },
  {
   "cell_type": "code",
   "execution_count": 3,
   "id": "29f2f5bc",
   "metadata": {},
   "outputs": [
    {
     "name": "stdout",
     "output_type": "stream",
     "text": [
      "Observations: 1,512\n",
      "Variables: 14\n",
      "$ X                 <int> 0, 1, 2, 3, 4, 5, 6, 7, 8, 9, 10, 11, 12, 13, 14,...\n",
      "$ Title             <fct> Elden Ring, Hades, The Legend of Zelda: Breath of...\n",
      "$ Release.Date      <fct> \"Feb 25, 2022\", \"Dec 10, 2019\", \"Mar 03, 2017\", \"...\n",
      "$ Team              <fct> \"['Bandai Namco Entertainment', 'FromSoftware']\",...\n",
      "$ Rating            <dbl> 4.5, 4.3, 4.4, 4.2, 4.4, 4.3, 4.2, 4.3, 3.0, 4.3,...\n",
      "$ Times.Listed      <fct> 3.9K, 2.9K, 4.3K, 3.5K, 3K, 2.3K, 1.6K, 2.1K, 867...\n",
      "$ Number.of.Reviews <fct> 3.9K, 2.9K, 4.3K, 3.5K, 3K, 2.3K, 1.6K, 2.1K, 867...\n",
      "$ Genres            <fct> \"['Adventure', 'RPG']\", \"['Adventure', 'Brawler',...\n",
      "$ Summary           <fct> \"Elden Ring is a fantasy, action and open world g...\n",
      "$ Reviews           <fct> \"[\\\"The first playthrough of elden ring is one of...\n",
      "$ Plays             <fct> 17K, 21K, 30K, 28K, 21K, 33K, 7.2K, 9.2K, 25K, 18...\n",
      "$ Playing           <fct> 3.8K, 3.2K, 2.5K, 679, 2.4K, 1.8K, 1.1K, 759, 470...\n",
      "$ Backlogs          <fct> 4.6K, 6.3K, 5K, 4.9K, 8.3K, 1.1K, 4.5K, 3.4K, 776...\n",
      "$ Wishlist          <fct> 4.8K, 3.6K, 2.6K, 1.8K, 2.3K, 230, 3.8K, 3.3K, 12...\n"
     ]
    }
   ],
   "source": [
    "#Display the structure of the dataset\n",
    "glimpse(games_data)"
   ]
  },
  {
   "cell_type": "code",
   "execution_count": 4,
   "id": "b24bbe81",
   "metadata": {},
   "outputs": [
    {
     "name": "stdout",
     "output_type": "stream",
     "text": [
      "                X             Title      Release.Date              Team \n",
      "                0                 0                 0                 0 \n",
      "           Rating      Times.Listed Number.of.Reviews            Genres \n",
      "               13                 0                 0                 0 \n",
      "          Summary           Reviews             Plays           Playing \n",
      "                0                 0                 0                 0 \n",
      "         Backlogs          Wishlist \n",
      "                0                 0 \n"
     ]
    }
   ],
   "source": [
    "#Check for missing values\n",
    "missing_values = colSums(is.na(games_data))\n",
    "print(missing_values)"
   ]
  },
  {
   "cell_type": "markdown",
   "id": "13a45d5b",
   "metadata": {},
   "source": [
    "What columns are missing values (If any)? Do you think you should remove the rows of data at this time in the exploration? Why or why not?"
   ]
  },
  {
   "cell_type": "markdown",
   "id": "b25ef7d5",
   "metadata": {},
   "source": [
    "## There is only one column that has missing vlaues I am going to decide to keep this data point in. I don't think this will impact the data as much\n",
    "## because there is only 13 left. "
   ]
  },
  {
   "cell_type": "markdown",
   "id": "973f5d2b",
   "metadata": {},
   "source": [
    "If you chose to remove rows with specific missing values:"
   ]
  },
  {
   "cell_type": "code",
   "execution_count": 5,
   "id": "e2cc5579",
   "metadata": {},
   "outputs": [],
   "source": [
    "# This step will be skipped and all na value\n",
    "\n",
    "#Remove rows with missing values...? It is imporant to specify the columns here and explain your thought process.\n",
    "\n",
    "#disease_data = na.omit(games_data)\n",
    "#glimpse(games_data)"
   ]
  },
  {
   "cell_type": "markdown",
   "id": "2f6a4531",
   "metadata": {},
   "source": [
    "What about duplicates?"
   ]
  },
  {
   "cell_type": "code",
   "execution_count": 6,
   "id": "e0d65abc",
   "metadata": {},
   "outputs": [
    {
     "name": "stdout",
     "output_type": "stream",
     "text": [
      "[1] \"Duplicate Rows:\"\n",
      " [1] X                 Title             Release.Date      Team             \n",
      " [5] Rating            Times.Listed      Number.of.Reviews Genres           \n",
      " [9] Summary           Reviews           Plays             Playing          \n",
      "[13] Backlogs          Wishlist         \n",
      "<0 rows> (or 0-length row.names)\n"
     ]
    }
   ],
   "source": [
    "#Do we have any duplicates?\n",
    "duplicate_rows = games_data[duplicated(games_data) | duplicated(games_data, fromLast = TRUE), ]\n",
    "\n",
    "#Print duplicates:\n",
    "print(\"Duplicate Rows:\")\n",
    "print(duplicate_rows)"
   ]
  },
  {
   "cell_type": "code",
   "execution_count": 7,
   "id": "c7342f0f",
   "metadata": {},
   "outputs": [],
   "source": [
    "# There are no missing values\n",
    "\n",
    "#Remove duplicates...? It is imporant to specify the columns here and explain your thought process.\n",
    "# games_data = distinct(games_data)"
   ]
  },
  {
   "cell_type": "markdown",
   "id": "ef92c026",
   "metadata": {},
   "source": [
    "Let's revisit the structure and look at the data types for each column. This will be important for SQL."
   ]
  },
  {
   "cell_type": "code",
   "execution_count": 8,
   "id": "557a57fc",
   "metadata": {},
   "outputs": [
    {
     "name": "stdout",
     "output_type": "stream",
     "text": [
      "[1] \"Original Data Types:\"\n",
      "                X             Title      Release.Date              Team \n",
      "        \"integer\"          \"factor\"          \"factor\"          \"factor\" \n",
      "           Rating      Times.Listed Number.of.Reviews            Genres \n",
      "        \"numeric\"          \"factor\"          \"factor\"          \"factor\" \n",
      "          Summary           Reviews             Plays           Playing \n",
      "         \"factor\"          \"factor\"          \"factor\"          \"factor\" \n",
      "         Backlogs          Wishlist \n",
      "         \"factor\"          \"factor\" \n"
     ]
    }
   ],
   "source": [
    "#What are the data types for each column?\n",
    "print(\"Original Data Types:\")\n",
    "print(sapply(games_data, class))"
   ]
  },
  {
   "cell_type": "code",
   "execution_count": 9,
   "id": "bf38ed9b",
   "metadata": {},
   "outputs": [
    {
     "name": "stdout",
     "output_type": "stream",
     "text": [
      "[1] \"Updated Data Types:\"\n",
      "   [1] \"integer\" \"integer\" \"integer\" \"integer\" \"integer\" \"integer\" \"integer\"\n",
      "   [8] \"integer\" \"integer\" \"integer\" \"integer\" \"integer\" \"integer\" \"integer\"\n",
      "  [15] \"integer\" \"integer\" \"integer\" \"integer\" \"integer\" \"integer\" \"integer\"\n",
      "  [22] \"integer\" \"integer\" \"integer\" \"integer\" \"integer\" \"integer\" \"integer\"\n",
      "  [29] \"integer\" \"integer\" \"integer\" \"integer\" \"integer\" \"integer\" \"integer\"\n",
      "  [36] \"integer\" \"integer\" \"integer\" \"integer\" \"integer\" \"integer\" \"integer\"\n",
      "  [43] \"integer\" \"integer\" \"integer\" \"integer\" \"integer\" \"integer\" \"integer\"\n",
      "  [50] \"integer\" \"integer\" \"integer\" \"integer\" \"integer\" \"integer\" \"integer\"\n",
      "  [57] \"integer\" \"integer\" \"integer\" \"integer\" \"integer\" \"integer\" \"integer\"\n",
      "  [64] \"integer\" \"integer\" \"integer\" \"integer\" \"integer\" \"integer\" \"integer\"\n",
      "  [71] \"integer\" \"integer\" \"integer\" \"integer\" \"integer\" \"integer\" \"integer\"\n",
      "  [78] \"integer\" \"integer\" \"integer\" \"integer\" \"integer\" \"integer\" \"integer\"\n",
      "  [85] \"integer\" \"integer\" \"integer\" \"integer\" \"integer\" \"integer\" \"integer\"\n",
      "  [92] \"integer\" \"integer\" \"integer\" \"integer\" \"integer\" \"integer\" \"integer\"\n",
      "  [99] \"integer\" \"integer\" \"integer\" \"integer\" \"integer\" \"integer\" \"integer\"\n",
      " [106] \"integer\" \"integer\" \"integer\" \"integer\" \"integer\" \"integer\" \"integer\"\n",
      " [113] \"integer\" \"integer\" \"integer\" \"integer\" \"integer\" \"integer\" \"integer\"\n",
      " [120] \"integer\" \"integer\" \"integer\" \"integer\" \"integer\" \"integer\" \"integer\"\n",
      " [127] \"integer\" \"integer\" \"integer\" \"integer\" \"integer\" \"integer\" \"integer\"\n",
      " [134] \"integer\" \"integer\" \"integer\" \"integer\" \"integer\" \"integer\" \"integer\"\n",
      " [141] \"integer\" \"integer\" \"integer\" \"integer\" \"integer\" \"integer\" \"integer\"\n",
      " [148] \"integer\" \"integer\" \"integer\" \"integer\" \"integer\" \"integer\" \"integer\"\n",
      " [155] \"integer\" \"integer\" \"integer\" \"integer\" \"integer\" \"integer\" \"integer\"\n",
      " [162] \"integer\" \"integer\" \"integer\" \"integer\" \"integer\" \"integer\" \"integer\"\n",
      " [169] \"integer\" \"integer\" \"integer\" \"integer\" \"integer\" \"integer\" \"integer\"\n",
      " [176] \"integer\" \"integer\" \"integer\" \"integer\" \"integer\" \"integer\" \"integer\"\n",
      " [183] \"integer\" \"integer\" \"integer\" \"integer\" \"integer\" \"integer\" \"integer\"\n",
      " [190] \"integer\" \"integer\" \"integer\" \"integer\" \"integer\" \"integer\" \"integer\"\n",
      " [197] \"integer\" \"integer\" \"integer\" \"integer\" \"integer\" \"integer\" \"integer\"\n",
      " [204] \"integer\" \"integer\" \"integer\" \"integer\" \"integer\" \"integer\" \"integer\"\n",
      " [211] \"integer\" \"integer\" \"integer\" \"integer\" \"integer\" \"integer\" \"integer\"\n",
      " [218] \"integer\" \"integer\" \"integer\" \"integer\" \"integer\" \"integer\" \"integer\"\n",
      " [225] \"integer\" \"integer\" \"integer\" \"integer\" \"integer\" \"integer\" \"integer\"\n",
      " [232] \"integer\" \"integer\" \"integer\" \"integer\" \"integer\" \"integer\" \"integer\"\n",
      " [239] \"integer\" \"integer\" \"integer\" \"integer\" \"integer\" \"integer\" \"integer\"\n",
      " [246] \"integer\" \"integer\" \"integer\" \"integer\" \"integer\" \"integer\" \"integer\"\n",
      " [253] \"integer\" \"integer\" \"integer\" \"integer\" \"integer\" \"integer\" \"integer\"\n",
      " [260] \"integer\" \"integer\" \"integer\" \"integer\" \"integer\" \"integer\" \"integer\"\n",
      " [267] \"integer\" \"integer\" \"integer\" \"integer\" \"integer\" \"integer\" \"integer\"\n",
      " [274] \"integer\" \"integer\" \"integer\" \"integer\" \"integer\" \"integer\" \"integer\"\n",
      " [281] \"integer\" \"integer\" \"integer\" \"integer\" \"integer\" \"integer\" \"integer\"\n",
      " [288] \"integer\" \"integer\" \"integer\" \"integer\" \"integer\" \"integer\" \"integer\"\n",
      " [295] \"integer\" \"integer\" \"integer\" \"integer\" \"integer\" \"integer\" \"integer\"\n",
      " [302] \"integer\" \"integer\" \"integer\" \"integer\" \"integer\" \"integer\" \"integer\"\n",
      " [309] \"integer\" \"integer\" \"integer\" \"integer\" \"integer\" \"integer\" \"integer\"\n",
      " [316] \"integer\" \"integer\" \"integer\" \"integer\" \"integer\" \"integer\" \"integer\"\n",
      " [323] \"integer\" \"integer\" \"integer\" \"integer\" \"integer\" \"integer\" \"integer\"\n",
      " [330] \"integer\" \"integer\" \"integer\" \"integer\" \"integer\" \"integer\" \"integer\"\n",
      " [337] \"integer\" \"integer\" \"integer\" \"integer\" \"integer\" \"integer\" \"integer\"\n",
      " [344] \"integer\" \"integer\" \"integer\" \"integer\" \"integer\" \"integer\" \"integer\"\n",
      " [351] \"integer\" \"integer\" \"integer\" \"integer\" \"integer\" \"integer\" \"integer\"\n",
      " [358] \"integer\" \"integer\" \"integer\" \"integer\" \"integer\" \"integer\" \"integer\"\n",
      " [365] \"integer\" \"integer\" \"integer\" \"integer\" \"integer\" \"integer\" \"integer\"\n",
      " [372] \"integer\" \"integer\" \"integer\" \"integer\" \"integer\" \"integer\" \"integer\"\n",
      " [379] \"integer\" \"integer\" \"integer\" \"integer\" \"integer\" \"integer\" \"integer\"\n",
      " [386] \"integer\" \"integer\" \"integer\" \"integer\" \"integer\" \"integer\" \"integer\"\n",
      " [393] \"integer\" \"integer\" \"integer\" \"integer\" \"integer\" \"integer\" \"integer\"\n",
      " [400] \"integer\" \"integer\" \"integer\" \"integer\" \"integer\" \"integer\" \"integer\"\n",
      " [407] \"integer\" \"integer\" \"integer\" \"integer\" \"integer\" \"integer\" \"integer\"\n",
      " [414] \"integer\" \"integer\" \"integer\" \"integer\" \"integer\" \"integer\" \"integer\"\n",
      " [421] \"integer\" \"integer\" \"integer\" \"integer\" \"integer\" \"integer\" \"integer\"\n",
      " [428] \"integer\" \"integer\" \"integer\" \"integer\" \"integer\" \"integer\" \"integer\"\n",
      " [435] \"integer\" \"integer\" \"integer\" \"integer\" \"integer\" \"integer\" \"integer\"\n",
      " [442] \"integer\" \"integer\" \"integer\" \"integer\" \"integer\" \"integer\" \"integer\"\n",
      " [449] \"integer\" \"integer\" \"integer\" \"integer\" \"integer\" \"integer\" \"integer\"\n",
      " [456] \"integer\" \"integer\" \"integer\" \"integer\" \"integer\" \"integer\" \"integer\"\n",
      " [463] \"integer\" \"integer\" \"integer\" \"integer\" \"integer\" \"integer\" \"integer\"\n",
      " [470] \"integer\" \"integer\" \"integer\" \"integer\" \"integer\" \"integer\" \"integer\"\n",
      " [477] \"integer\" \"integer\" \"integer\" \"integer\" \"integer\" \"integer\" \"integer\"\n",
      " [484] \"integer\" \"integer\" \"integer\" \"integer\" \"integer\" \"integer\" \"integer\"\n",
      " [491] \"integer\" \"integer\" \"integer\" \"integer\" \"integer\" \"integer\" \"integer\"\n",
      " [498] \"integer\" \"integer\" \"integer\" \"integer\" \"integer\" \"integer\" \"integer\"\n",
      " [505] \"integer\" \"integer\" \"integer\" \"integer\" \"integer\" \"integer\" \"integer\"\n",
      " [512] \"integer\" \"integer\" \"integer\" \"integer\" \"integer\" \"integer\" \"integer\"\n",
      " [519] \"integer\" \"integer\" \"integer\" \"integer\" \"integer\" \"integer\" \"integer\"\n",
      " [526] \"integer\" \"integer\" \"integer\" \"integer\" \"integer\" \"integer\" \"integer\"\n",
      " [533] \"integer\" \"integer\" \"integer\" \"integer\" \"integer\" \"integer\" \"integer\"\n",
      " [540] \"integer\" \"integer\" \"integer\" \"integer\" \"integer\" \"integer\" \"integer\"\n",
      " [547] \"integer\" \"integer\" \"integer\" \"integer\" \"integer\" \"integer\" \"integer\"\n",
      " [554] \"integer\" \"integer\" \"integer\" \"integer\" \"integer\" \"integer\" \"integer\"\n",
      " [561] \"integer\" \"integer\" \"integer\" \"integer\" \"integer\" \"integer\" \"integer\"\n",
      " [568] \"integer\" \"integer\" \"integer\" \"integer\" \"integer\" \"integer\" \"integer\"\n",
      " [575] \"integer\" \"integer\" \"integer\" \"integer\" \"integer\" \"integer\" \"integer\"\n",
      " [582] \"integer\" \"integer\" \"integer\" \"integer\" \"integer\" \"integer\" \"integer\"\n",
      " [589] \"integer\" \"integer\" \"integer\" \"integer\" \"integer\" \"integer\" \"integer\"\n",
      " [596] \"integer\" \"integer\" \"integer\" \"integer\" \"integer\" \"integer\" \"integer\"\n",
      " [603] \"integer\" \"integer\" \"integer\" \"integer\" \"integer\" \"integer\" \"integer\"\n",
      " [610] \"integer\" \"integer\" \"integer\" \"integer\" \"integer\" \"integer\" \"integer\"\n",
      " [617] \"integer\" \"integer\" \"integer\" \"integer\" \"integer\" \"integer\" \"integer\"\n",
      " [624] \"integer\" \"integer\" \"integer\" \"integer\" \"integer\" \"integer\" \"integer\"\n",
      " [631] \"integer\" \"integer\" \"integer\" \"integer\" \"integer\" \"integer\" \"integer\"\n",
      " [638] \"integer\" \"integer\" \"integer\" \"integer\" \"integer\" \"integer\" \"integer\"\n",
      " [645] \"integer\" \"integer\" \"integer\" \"integer\" \"integer\" \"integer\" \"integer\"\n",
      " [652] \"integer\" \"integer\" \"integer\" \"integer\" \"integer\" \"integer\" \"integer\"\n",
      " [659] \"integer\" \"integer\" \"integer\" \"integer\" \"integer\" \"integer\" \"integer\"\n",
      " [666] \"integer\" \"integer\" \"integer\" \"integer\" \"integer\" \"integer\" \"integer\"\n",
      " [673] \"integer\" \"integer\" \"integer\" \"integer\" \"integer\" \"integer\" \"integer\"\n",
      " [680] \"integer\" \"integer\" \"integer\" \"integer\" \"integer\" \"integer\" \"integer\"\n",
      " [687] \"integer\" \"integer\" \"integer\" \"integer\" \"integer\" \"integer\" \"integer\"\n",
      " [694] \"integer\" \"integer\" \"integer\" \"integer\" \"integer\" \"integer\" \"integer\"\n",
      " [701] \"integer\" \"integer\" \"integer\" \"integer\" \"integer\" \"integer\" \"integer\"\n",
      " [708] \"integer\" \"integer\" \"integer\" \"integer\" \"integer\" \"integer\" \"integer\"\n",
      " [715] \"integer\" \"integer\" \"integer\" \"integer\" \"integer\" \"integer\" \"integer\"\n",
      " [722] \"integer\" \"integer\" \"integer\" \"integer\" \"integer\" \"integer\" \"integer\"\n",
      " [729] \"integer\" \"integer\" \"integer\" \"integer\" \"integer\" \"integer\" \"integer\"\n",
      " [736] \"integer\" \"integer\" \"integer\" \"integer\" \"integer\" \"integer\" \"integer\"\n",
      " [743] \"integer\" \"integer\" \"integer\" \"integer\" \"integer\" \"integer\" \"integer\"\n",
      " [750] \"integer\" \"integer\" \"integer\" \"integer\" \"integer\" \"integer\" \"integer\"\n",
      " [757] \"integer\" \"integer\" \"integer\" \"integer\" \"integer\" \"integer\" \"integer\"\n",
      " [764] \"integer\" \"integer\" \"integer\" \"integer\" \"integer\" \"integer\" \"integer\"\n",
      " [771] \"integer\" \"integer\" \"integer\" \"integer\" \"integer\" \"integer\" \"integer\"\n",
      " [778] \"integer\" \"integer\" \"integer\" \"integer\" \"integer\" \"integer\" \"integer\"\n",
      " [785] \"integer\" \"integer\" \"integer\" \"integer\" \"integer\" \"integer\" \"integer\"\n",
      " [792] \"integer\" \"integer\" \"integer\" \"integer\" \"integer\" \"integer\" \"integer\"\n",
      " [799] \"integer\" \"integer\" \"integer\" \"integer\" \"integer\" \"integer\" \"integer\"\n",
      " [806] \"integer\" \"integer\" \"integer\" \"integer\" \"integer\" \"integer\" \"integer\"\n",
      " [813] \"integer\" \"integer\" \"integer\" \"integer\" \"integer\" \"integer\" \"integer\"\n",
      " [820] \"integer\" \"integer\" \"integer\" \"integer\" \"integer\" \"integer\" \"integer\"\n",
      " [827] \"integer\" \"integer\" \"integer\" \"integer\" \"integer\" \"integer\" \"integer\"\n",
      " [834] \"integer\" \"integer\" \"integer\" \"integer\" \"integer\" \"integer\" \"integer\"\n",
      " [841] \"integer\" \"integer\" \"integer\" \"integer\" \"integer\" \"integer\" \"integer\"\n",
      " [848] \"integer\" \"integer\" \"integer\" \"integer\" \"integer\" \"integer\" \"integer\"\n",
      " [855] \"integer\" \"integer\" \"integer\" \"integer\" \"integer\" \"integer\" \"integer\"\n",
      " [862] \"integer\" \"integer\" \"integer\" \"integer\" \"integer\" \"integer\" \"integer\"\n",
      " [869] \"integer\" \"integer\" \"integer\" \"integer\" \"integer\" \"integer\" \"integer\"\n",
      " [876] \"integer\" \"integer\" \"integer\" \"integer\" \"integer\" \"integer\" \"integer\"\n",
      " [883] \"integer\" \"integer\" \"integer\" \"integer\" \"integer\" \"integer\" \"integer\"\n",
      " [890] \"integer\" \"integer\" \"integer\" \"integer\" \"integer\" \"integer\" \"integer\"\n",
      " [897] \"integer\" \"integer\" \"integer\" \"integer\" \"integer\" \"integer\" \"integer\"\n",
      " [904] \"integer\" \"integer\" \"integer\" \"integer\" \"integer\" \"integer\" \"integer\"\n",
      " [911] \"integer\" \"integer\" \"integer\" \"integer\" \"integer\" \"integer\" \"integer\"\n",
      " [918] \"integer\" \"integer\" \"integer\" \"integer\" \"integer\" \"integer\" \"integer\"\n",
      " [925] \"integer\" \"integer\" \"integer\" \"integer\" \"integer\" \"integer\" \"integer\"\n",
      " [932] \"integer\" \"integer\" \"integer\" \"integer\" \"integer\" \"integer\" \"integer\"\n",
      " [939] \"integer\" \"integer\" \"integer\" \"integer\" \"integer\" \"integer\" \"integer\"\n",
      " [946] \"integer\" \"integer\" \"integer\" \"integer\" \"integer\" \"integer\" \"integer\"\n",
      " [953] \"integer\" \"integer\" \"integer\" \"integer\" \"integer\" \"integer\" \"integer\"\n",
      " [960] \"integer\" \"integer\" \"integer\" \"integer\" \"integer\" \"integer\" \"integer\"\n",
      " [967] \"integer\" \"integer\" \"integer\" \"integer\" \"integer\" \"integer\" \"integer\"\n",
      " [974] \"integer\" \"integer\" \"integer\" \"integer\" \"integer\" \"integer\" \"integer\"\n",
      " [981] \"integer\" \"integer\" \"integer\" \"integer\" \"integer\" \"integer\" \"integer\"\n",
      " [988] \"integer\" \"integer\" \"integer\" \"integer\" \"integer\" \"integer\" \"integer\"\n",
      " [995] \"integer\" \"integer\" \"integer\" \"integer\" \"integer\" \"integer\" \"integer\"\n",
      "[1002] \"integer\" \"integer\" \"integer\" \"integer\" \"integer\" \"integer\" \"integer\"\n",
      "[1009] \"integer\" \"integer\" \"integer\" \"integer\" \"integer\" \"integer\" \"integer\"\n",
      "[1016] \"integer\" \"integer\" \"integer\" \"integer\" \"integer\" \"integer\" \"integer\"\n",
      "[1023] \"integer\" \"integer\" \"integer\" \"integer\" \"integer\" \"integer\" \"integer\"\n",
      "[1030] \"integer\" \"integer\" \"integer\" \"integer\" \"integer\" \"integer\" \"integer\"\n",
      "[1037] \"integer\" \"integer\" \"integer\" \"integer\" \"integer\" \"integer\" \"integer\"\n",
      "[1044] \"integer\" \"integer\" \"integer\" \"integer\" \"integer\" \"integer\" \"integer\"\n",
      "[1051] \"integer\" \"integer\" \"integer\" \"integer\" \"integer\" \"integer\" \"integer\"\n",
      "[1058] \"integer\" \"integer\" \"integer\" \"integer\" \"integer\" \"integer\" \"integer\"\n",
      "[1065] \"integer\" \"integer\" \"integer\" \"integer\" \"integer\" \"integer\" \"integer\"\n",
      "[1072] \"integer\" \"integer\" \"integer\" \"integer\" \"integer\" \"integer\" \"integer\"\n",
      "[1079] \"integer\" \"integer\" \"integer\" \"integer\" \"integer\" \"integer\" \"integer\"\n",
      "[1086] \"integer\" \"integer\" \"integer\" \"integer\" \"integer\" \"integer\" \"integer\"\n",
      "[1093] \"integer\" \"integer\" \"integer\" \"integer\" \"integer\" \"integer\" \"integer\"\n",
      "[1100] \"integer\" \"integer\" \"integer\" \"integer\" \"integer\" \"integer\" \"integer\"\n",
      "[1107] \"integer\" \"integer\" \"integer\" \"integer\" \"integer\" \"integer\" \"integer\"\n",
      "[1114] \"integer\" \"integer\" \"integer\" \"integer\" \"integer\" \"integer\" \"integer\"\n",
      "[1121] \"integer\" \"integer\" \"integer\" \"integer\" \"integer\" \"integer\" \"integer\"\n",
      "[1128] \"integer\" \"integer\" \"integer\" \"integer\" \"integer\" \"integer\" \"integer\"\n",
      "[1135] \"integer\" \"integer\" \"integer\" \"integer\" \"integer\" \"integer\" \"integer\"\n",
      "[1142] \"integer\" \"integer\" \"integer\" \"integer\" \"integer\" \"integer\" \"integer\"\n",
      "[1149] \"integer\" \"integer\" \"integer\" \"integer\" \"integer\" \"integer\" \"integer\"\n",
      "[1156] \"integer\" \"integer\" \"integer\" \"integer\" \"integer\" \"integer\" \"integer\"\n",
      "[1163] \"integer\" \"integer\" \"integer\" \"integer\" \"integer\" \"integer\" \"integer\"\n",
      "[1170] \"integer\" \"integer\" \"integer\" \"integer\" \"integer\" \"integer\" \"integer\"\n",
      "[1177] \"integer\" \"integer\" \"integer\" \"integer\" \"integer\" \"integer\" \"integer\"\n",
      "[1184] \"integer\" \"integer\" \"integer\" \"integer\" \"integer\" \"integer\" \"integer\"\n",
      "[1191] \"integer\" \"integer\" \"integer\" \"integer\" \"integer\" \"integer\" \"integer\"\n",
      "[1198] \"integer\" \"integer\" \"integer\" \"integer\" \"integer\" \"integer\" \"integer\"\n",
      "[1205] \"integer\" \"integer\" \"integer\" \"integer\" \"integer\" \"integer\" \"integer\"\n",
      "[1212] \"integer\" \"integer\" \"integer\" \"integer\" \"integer\" \"integer\" \"integer\"\n",
      "[1219] \"integer\" \"integer\" \"integer\" \"integer\" \"integer\" \"integer\" \"integer\"\n",
      "[1226] \"integer\" \"integer\" \"integer\" \"integer\" \"integer\" \"integer\" \"integer\"\n",
      "[1233] \"integer\" \"integer\" \"integer\" \"integer\" \"integer\" \"integer\" \"integer\"\n",
      "[1240] \"integer\" \"integer\" \"integer\" \"integer\" \"integer\" \"integer\" \"integer\"\n",
      "[1247] \"integer\" \"integer\" \"integer\" \"integer\" \"integer\" \"integer\" \"integer\"\n",
      "[1254] \"integer\" \"integer\" \"integer\" \"integer\" \"integer\" \"integer\" \"integer\"\n",
      "[1261] \"integer\" \"integer\" \"integer\" \"integer\" \"integer\" \"integer\" \"integer\"\n",
      "[1268] \"integer\" \"integer\" \"integer\" \"integer\" \"integer\" \"integer\" \"integer\"\n",
      "[1275] \"integer\" \"integer\" \"integer\" \"integer\" \"integer\" \"integer\" \"integer\"\n",
      "[1282] \"integer\" \"integer\" \"integer\" \"integer\" \"integer\" \"integer\" \"integer\"\n",
      "[1289] \"integer\" \"integer\" \"integer\" \"integer\" \"integer\" \"integer\" \"integer\"\n",
      "[1296] \"integer\" \"integer\" \"integer\" \"integer\" \"integer\" \"integer\" \"integer\"\n",
      "[1303] \"integer\" \"integer\" \"integer\" \"integer\" \"integer\" \"integer\" \"integer\"\n",
      "[1310] \"integer\" \"integer\" \"integer\" \"integer\" \"integer\" \"integer\" \"integer\"\n",
      "[1317] \"integer\" \"integer\" \"integer\" \"integer\" \"integer\" \"integer\" \"integer\"\n",
      "[1324] \"integer\" \"integer\" \"integer\" \"integer\" \"integer\" \"integer\" \"integer\"\n",
      "[1331] \"integer\" \"integer\" \"integer\" \"integer\" \"integer\" \"integer\" \"integer\"\n",
      "[1338] \"integer\" \"integer\" \"integer\" \"integer\" \"integer\" \"integer\" \"integer\"\n",
      "[1345] \"integer\" \"integer\" \"integer\" \"integer\" \"integer\" \"integer\" \"integer\"\n",
      "[1352] \"integer\" \"integer\" \"integer\" \"integer\" \"integer\" \"integer\" \"integer\"\n",
      "[1359] \"integer\" \"integer\" \"integer\" \"integer\" \"integer\" \"integer\" \"integer\"\n",
      "[1366] \"integer\" \"integer\" \"integer\" \"integer\" \"integer\" \"integer\" \"integer\"\n",
      "[1373] \"integer\" \"integer\" \"integer\" \"integer\" \"integer\" \"integer\" \"integer\"\n",
      "[1380] \"integer\" \"integer\" \"integer\" \"integer\" \"integer\" \"integer\" \"integer\"\n",
      "[1387] \"integer\" \"integer\" \"integer\" \"integer\" \"integer\" \"integer\" \"integer\"\n",
      "[1394] \"integer\" \"integer\" \"integer\" \"integer\" \"integer\" \"integer\" \"integer\"\n",
      "[1401] \"integer\" \"integer\" \"integer\" \"integer\" \"integer\" \"integer\" \"integer\"\n",
      "[1408] \"integer\" \"integer\" \"integer\" \"integer\" \"integer\" \"integer\" \"integer\"\n",
      "[1415] \"integer\" \"integer\" \"integer\" \"integer\" \"integer\" \"integer\" \"integer\"\n",
      "[1422] \"integer\" \"integer\" \"integer\" \"integer\" \"integer\" \"integer\" \"integer\"\n",
      "[1429] \"integer\" \"integer\" \"integer\" \"integer\" \"integer\" \"integer\" \"integer\"\n",
      "[1436] \"integer\" \"integer\" \"integer\" \"integer\" \"integer\" \"integer\" \"integer\"\n",
      "[1443] \"integer\" \"integer\" \"integer\" \"integer\" \"integer\" \"integer\" \"integer\"\n",
      "[1450] \"integer\" \"integer\" \"integer\" \"integer\" \"integer\" \"integer\" \"integer\"\n",
      "[1457] \"integer\" \"integer\" \"integer\" \"integer\" \"integer\" \"integer\" \"integer\"\n",
      "[1464] \"integer\" \"integer\" \"integer\" \"integer\" \"integer\" \"integer\" \"integer\"\n",
      "[1471] \"integer\" \"integer\" \"integer\" \"integer\" \"integer\" \"integer\" \"integer\"\n",
      "[1478] \"integer\" \"integer\" \"integer\" \"integer\" \"integer\" \"integer\" \"integer\"\n",
      "[1485] \"integer\" \"integer\" \"integer\" \"integer\" \"integer\" \"integer\" \"integer\"\n",
      "[1492] \"integer\" \"integer\" \"integer\" \"integer\" \"integer\" \"integer\" \"integer\"\n",
      "[1499] \"integer\" \"integer\" \"integer\" \"integer\" \"integer\" \"integer\" \"integer\"\n",
      "[1506] \"integer\" \"integer\" \"integer\" \"integer\" \"integer\" \"integer\" \"integer\"\n"
     ]
    }
   ],
   "source": [
    "#Convert data types if needed. This is VERY common for dates and times. Library(lubridate) works well with dates.\n",
    "#Example: #Convert column to an integer type\n",
    "games_data$Rating = as.integer(games_data$Rating)\n",
    "\n",
    "#What are the updated column types?\n",
    " print(\"Updated Data Types:\")\n",
    " print(sapply(games_data$Rating, class))"
   ]
  },
  {
   "cell_type": "markdown",
   "id": "4470acec",
   "metadata": {},
   "source": [
    "Changing text characters in your data. Make all column names lowercase. Lowercase is easier to read in SQL when we get to that point."
   ]
  },
  {
   "cell_type": "code",
   "execution_count": 10,
   "id": "5e5b529f",
   "metadata": {},
   "outputs": [
    {
     "name": "stdout",
     "output_type": "stream",
     "text": [
      " [1] \"x\"                 \"title\"             \"release.date\"     \n",
      " [4] \"team\"              \"rating\"            \"times.listed\"     \n",
      " [7] \"number.of.reviews\" \"genres\"            \"summary\"          \n",
      "[10] \"reviews\"           \"plays\"             \"playing\"          \n",
      "[13] \"backlogs\"          \"wishlist\"         \n"
     ]
    }
   ],
   "source": [
    "# Shows the column name\n",
    "column_names = names(games_data)\n",
    "# Make all column names lowercase:\n",
    "column_names = tolower(column_names)\n",
    "# Changes the column names and puts them back into the main data frame\n",
    "names(games_data) = column_names\n",
    "\n",
    "# Prints the results\n",
    "print(names(games_data))"
   ]
  },
  {
   "cell_type": "markdown",
   "id": "8a8c5da8",
   "metadata": {},
   "source": [
    "Assignment #1 asked you to create a graph and check for outliers. Are there any outliers in your columns? How can we check for outliers?"
   ]
  },
  {
   "cell_type": "code",
   "execution_count": 11,
   "id": "56e3563d",
   "metadata": {},
   "outputs": [
    {
     "data": {
      "image/png": "[encoded data removed]",
      "text/plain": [
       "Plot with title \"Histogram for Rating Column\""
      ]
     },
     "metadata": {},
     "output_type": "display_data"
    }
   ],
   "source": [
    "# Create a code to check for outliers that fits your data exploration needs or any other errors in numeric entries.\n",
    "\n",
    "# There is an outlier at the 1 rating, most of the ratings are around the 2 - 4 ratings.\n",
    "hist(games_data$rating, main = \"Histogram for Rating Column\", breaks = 30)"
   ]
  },
  {
   "cell_type": "markdown",
   "id": "5db2b0b2",
   "metadata": {},
   "source": [
    "<b>To create additional steps for data cleaning in Jupyter notebook: </b><br>\n",
    "Hit the plus button in the top left corner to add a row of code. <br>\n",
    "To change from code to text or headers, select from the drop down menu above. <br>\n",
    "Use \"< b r >\" (No spaces or quotes) to skip a line in markdown and other HTML text font options."
   ]
  },
  {
   "cell_type": "markdown",
   "id": "4320b4e5",
   "metadata": {},
   "source": [
    "Additional step #1:"
   ]
  },
  {
   "cell_type": "code",
   "execution_count": 12,
   "id": "ac84e27d",
   "metadata": {},
   "outputs": [
    {
     "name": "stdout",
     "output_type": "stream",
     "text": [
      " [1] \"x\"                 \"title\"             \"release_date\"     \n",
      " [4] \"team\"              \"rating\"            \"times_listed\"     \n",
      " [7] \"number_of_reviews\" \"genres\"            \"summary\"          \n",
      "[10] \"reviews\"           \"plays\"             \"playing\"          \n",
      "[13] \"backlogs\"          \"wishlist\"         \n"
     ]
    }
   ],
   "source": [
    "# Shows the column name\n",
    "column_names = names(games_data)\n",
    "# Replaces all the periods in the name with underscore \n",
    "column_names <- gsub(\"\\\\.\", \"_\", column_names) \n",
    "# Changes the column names and puts them back into the main data frame\n",
    "names(games_data) = column_names\n",
    "\n",
    "# Prints the results\n",
    "print(names(games_data))"
   ]
  },
  {
   "cell_type": "markdown",
   "id": "ad8519f6",
   "metadata": {},
   "source": [
    "Additional step #2:"
   ]
  },
  {
   "cell_type": "code",
   "execution_count": 13,
   "id": "81661bc5",
   "metadata": {},
   "outputs": [
    {
     "name": "stdout",
     "output_type": "stream",
     "text": [
      "Observations: 1,512\n",
      "Variables: 14\n",
      "$ x                 <int> 0, 1, 2, 3, 4, 5, 6, 7, 8, 9, 10, 11, 12, 13, 14,...\n",
      "$ title             <fct> Elden Ring, Hades, The Legend of Zelda: Breath of...\n",
      "$ release_date      <fct> \"Feb 25, 2022\", \"Dec 10, 2019\", \"Mar 03, 2017\", \"...\n",
      "$ team              <fct> \"['Bandai Namco Entertainment', 'FromSoftware']\",...\n",
      "$ rating            <int> 4, 4, 4, 4, 4, 4, 4, 4, 3, 4, 4, 3, 4, 4, 4, 4, 4...\n",
      "$ times_listed      <int> 3900, 2900, 4300, 3500, 300, 2300, 1600, 2100, 86...\n",
      "$ number_of_reviews <int> 3900, 2900, 4300, 3500, 300, 2300, 1600, 2100, 86...\n",
      "$ genres            <fct> \"['Adventure', 'RPG']\", \"['Adventure', 'Brawler',...\n",
      "$ summary           <fct> \"Elden Ring is a fantasy, action and open world g...\n",
      "$ reviews           <fct> \"[\\\"The first playthrough of elden ring is one of...\n",
      "$ plays             <int> 1700, 2100, 3000, 2800, 2100, 3300, 7200, 9200, 2...\n",
      "$ playing           <int> 3800, 3200, 2500, 679, 2400, 1800, 1100, 759, 470...\n",
      "$ backlogs          <int> 4600, 6300, 500, 4900, 8300, 1100, 4500, 3400, 77...\n",
      "$ wishlist          <int> 4800, 3600, 2600, 1800, 2300, 230, 3800, 3300, 12...\n"
     ]
    }
   ],
   "source": [
    "# Remove the K and add \",000\" to the number. \n",
    "# Function to perform replacements\n",
    "replace_function <- function(x) {\n",
    "  x <- gsub(\"\\\\.\", \"\", x)\n",
    "  x <- gsub(\"K\", \"00\", x)\n",
    "  return(x)\n",
    "}\n",
    "\n",
    "# Columns to apply the replacements\n",
    "columns_to_modify = c(\"playing\", \"plays\",\"wishlist\", \"backlogs\", \"times_listed\",\"number_of_reviews\")\n",
    "\n",
    "# Modifies the column\n",
    "games_data[columns_to_modify] = lapply(games_data[columns_to_modify], replace_function)\n",
    "\n",
    "# Converts the characters into integers\n",
    "for (col in columns_to_modify) {\n",
    "  games_data[[col]] = as.integer(as.character(games_data[[col]]))\n",
    "}\n",
    "\n",
    "# View a glimpse of the dataframe\n",
    "glimpse(games_data)\n",
    "\n"
   ]
  },
  {
   "cell_type": "markdown",
   "id": "d8909d71",
   "metadata": {},
   "source": [
    "Additional step #3:"
   ]
  },
  {
   "cell_type": "code",
   "execution_count": 14,
   "id": "2e643926",
   "metadata": {},
   "outputs": [
    {
     "name": "stderr",
     "output_type": "stream",
     "text": [
      "Warning message:\n",
      "\" 3 failed to parse.\""
     ]
    },
    {
     "data": {
      "text/html": [
       "<ol class=list-inline>\n",
       "\t<li><time datetime=\"2022-02-25\">2022-02-25</time></li>\n",
       "\t<li><time datetime=\"2019-12-10\">2019-12-10</time></li>\n",
       "\t<li><time datetime=\"2017-03-03\">2017-03-03</time></li>\n",
       "\t<li><time datetime=\"2015-09-15\">2015-09-15</time></li>\n",
       "\t<li><time datetime=\"2017-02-24\">2017-02-24</time></li>\n",
       "\t<li><time datetime=\"2011-11-18\">2011-11-18</time></li>\n",
       "</ol>\n"
      ],
      "text/latex": [
       "\\begin{enumerate*}\n",
       "\\item 2022-02-25\n",
       "\\item 2019-12-10\n",
       "\\item 2017-03-03\n",
       "\\item 2015-09-15\n",
       "\\item 2017-02-24\n",
       "\\item 2011-11-18\n",
       "\\end{enumerate*}\n"
      ],
      "text/markdown": [
       "1. 2022-02-25\n",
       "2. 2019-12-10\n",
       "3. 2017-03-03\n",
       "4. 2015-09-15\n",
       "5. 2017-02-24\n",
       "6. 2011-11-18\n",
       "\n",
       "\n"
      ],
      "text/plain": [
       "[1] \"2022-02-25\" \"2019-12-10\" \"2017-03-03\" \"2015-09-15\" \"2017-02-24\"\n",
       "[6] \"2011-11-18\""
      ]
     },
     "metadata": {},
     "output_type": "display_data"
    }
   ],
   "source": [
    "# Change the release date to data format\n",
    "games_data$release_date = mdy(games_data$release_date)\n",
    "\n",
    "\n",
    "head(games_data$release_date)\n"
   ]
  },
  {
   "cell_type": "markdown",
   "id": "b92b7f13",
   "metadata": {},
   "source": [
    "Lets save our new CLEAN data :) "
   ]
  },
  {
   "cell_type": "code",
   "execution_count": 16,
   "id": "0449d769",
   "metadata": {},
   "outputs": [],
   "source": [
    "#Save the newly cleaned dataset as a NEW file:\n",
    "write.csv(games_data, 'cleaned_games_data.csv')"
   ]
  },
  {
   "cell_type": "code",
   "execution_count": null,
   "id": "8c56496f-1594-4571-9ff8-63d8592b046d",
   "metadata": {},
   "outputs": [],
   "source": []
  }
 ],
 "metadata": {
  "kernelspec": {
   "display_name": "R",
   "language": "R",
   "name": "ir"
  },
  "language_info": {
   "codemirror_mode": "r",
   "file_extension": ".r",
   "mimetype": "text/x-r-source",
   "name": "R",
   "pygments_lexer": "r",
   "version": "3.6.1"
  }
 },
 "nbformat": 4,
 "nbformat_minor": 5
}
