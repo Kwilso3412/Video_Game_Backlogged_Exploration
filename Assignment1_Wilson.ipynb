{
 "cells": [
  {
   "cell_type": "markdown",
   "id": "c825ca7c",
   "metadata": {},
   "source": [
    "# Assignment #1 - Data Gathering and Warehousing - DSSA-5102"
   ]
  },
  {
   "cell_type": "markdown",
   "id": "3e792669",
   "metadata": {},
   "source": [
    "Instructor: Melissa Laurino<br>\n",
    "Spring 2024"
   ]
  },
  {
   "cell_type": "markdown",
   "id": "db9fe204",
   "metadata": {},
   "source": [
    "Name:Kahlyll Wilson\n",
    "<br>\n",
    "Date:21 Jan 2024"
   ]
  },
  {
   "cell_type": "markdown",
   "id": "292e9143",
   "metadata": {},
   "source": [
    "<b>Data. Is. Everywhere.</b> <br>\n",
    "Our first objective is to locate and explore <b>TWO</b> datasets about something you are passionate about, or related to a field you would like to work in. Our semester plan is <i>try</i> to work with the same dataset through out the semester. You can find and explore as many datasets as you wish, but Assignment #2 will focus on the one you like the best.\n",
    "There are many great websites that offer public datasets avaialable to download. Examples include but are not limited to:\n",
    "<br>\n",
    "https://data.gov/ - Data.gov has many government owened public datasets.<br>\n",
    "https://data.worldbank.org/ - World Bank Data has world economic, social, and environmental data.<br>\n",
    "https://datasetsearch.research.google.com/ - Google Dataset Search: Many of these available datasets link to published studies available on Google Scholar in many fields.<br>\n",
    "https://www.kaggle.com/datasets - Kaggle Datasets is a platform for sharing datasets. Anyone can upload to this website.<br>\n",
    "https://www.census.gov/ - U.S. Census Bureau: Data on people, places and econoy for the United States.\n",
    "https://github.com/ - GitHub hosts datasets and completed projects.<br>\n",
    "https://fred.stlouisfed.org/ - Federal Reserve Economic Data (FRED) - Financial and economic data.<br>\n",
    "https://data.cdc.gov/ - Explore the various data collected by the CDC.<br>\n",
    "https://www.ncei.noaa.gov/cdo-web/ - NOAA climate and ocean data. <br>\n",
    "<br>\n",
    "In addition to these resources, occasionally local organizations may be able to provide you with data, or maybe even your own company! Your data source can come from a personal connection, but please be mindful of any data agreements or approvals you may need. If you need approval to use data from your place of employment, please specify that with the instructor so we can ensure no violations to your data agreement will be made this semester."
   ]
  },
  {
   "cell_type": "markdown",
   "id": "6c5eadb4",
   "metadata": {},
   "source": [
    "# Dataset #1"
   ]
  },
  {
   "cell_type": "markdown",
   "id": "0bf03c2c",
   "metadata": {},
   "source": [
    "<b>Dataset name:Popular Video Games 1980 - 2023 </b><br>\n",
    "<b>Company/Government Organization: Kaggle </b><br>\n",
    "Download link:https://www.kaggle.com/datasets/arnabchaki/popular-video-games-1980-2023"
   ]
  },
  {
   "cell_type": "markdown",
   "id": "55a352bf",
   "metadata": {},
   "source": [
    "Load any necessary libraries or packages:"
   ]
  },
  {
   "cell_type": "code",
   "execution_count": 3,
   "id": "f274f2ae",
   "metadata": {
    "scrolled": true
   },
   "outputs": [
    {
     "name": "stderr",
     "output_type": "stream",
     "text": [
      "Registered S3 methods overwritten by 'ggplot2':\n",
      "  method         from \n",
      "  [.quosures     rlang\n",
      "  c.quosures     rlang\n",
      "  print.quosures rlang\n",
      "Registered S3 method overwritten by 'rvest':\n",
      "  method            from\n",
      "  read_xml.response xml2\n",
      "-- Attaching packages --------------------------------------- tidyverse 1.2.1 --\n",
      "v tibble  2.1.1       v dplyr   0.8.0.1\n",
      "v tidyr   0.8.3       v stringr 1.4.0  \n",
      "v purrr   0.3.2       v forcats 0.4.0  \n",
      "-- Conflicts ------------------------------------------ tidyverse_conflicts() --\n",
      "x dplyr::filter() masks stats::filter()\n",
      "x dplyr::lag()    masks stats::lag()\n"
     ]
    }
   ],
   "source": [
    "#My example libraries are below, but edit as needed to fit your dataset:\n",
    "library(readr) #Reading the CSV data file\n",
    "library(ggplot2) #Graphing\n",
    "library(tidyverse)"
   ]
  },
  {
   "cell_type": "markdown",
   "id": "79c86913",
   "metadata": {},
   "source": [
    "Load your dataset into the notebook below:"
   ]
  },
  {
   "cell_type": "code",
   "execution_count": null,
   "id": "8dbcdffd",
   "metadata": {},
   "outputs": [],
   "source": [
    "#Be sure to document each line of code like the above example.\n",
    "#Documenting each line of code is helpful when revisiting assignments later in the semester."
   ]
  },
  {
   "cell_type": "code",
   "execution_count": 4,
   "id": "2fc0d288",
   "metadata": {},
   "outputs": [],
   "source": [
    "# Load in the data set\n",
    "games_data = read.csv(\"C:\\\\Users\\\\kahsw\\\\OneDrive\\\\Desktop\\\\course_major\\\\Masters\\\\3 Spring 2024\\\\Data gathering and warehousing\\\\week one\\\\Assignment one\\\\games.csv\"\n",
    ")\n"
   ]
  },
  {
   "cell_type": "markdown",
   "id": "741d90c8",
   "metadata": {},
   "source": [
    "What are the unique columns or variables present in your dataset? How many rows are there?"
   ]
  },
  {
   "cell_type": "code",
   "execution_count": 5,
   "id": "1ed08a0e",
   "metadata": {},
   "outputs": [
    {
     "name": "stdout",
     "output_type": "stream",
     "text": [
      "Observations: 1,512\n",
      "Variables: 14\n",
      "$ X                 <int> 0, 1, 2, 3, 4, 5, 6, 7, 8, 9, 10, 11, 12, 13, 14,...\n",
      "$ Title             <fct> Elden Ring, Hades, The Legend of Zelda: Breath of...\n",
      "$ Release.Date      <fct> \"Feb 25, 2022\", \"Dec 10, 2019\", \"Mar 03, 2017\", \"...\n",
      "$ Team              <fct> \"['Bandai Namco Entertainment', 'FromSoftware']\",...\n",
      "$ Rating            <dbl> 4.5, 4.3, 4.4, 4.2, 4.4, 4.3, 4.2, 4.3, 3.0, 4.3,...\n",
      "$ Times.Listed      <fct> 3.9K, 2.9K, 4.3K, 3.5K, 3K, 2.3K, 1.6K, 2.1K, 867...\n",
      "$ Number.of.Reviews <fct> 3.9K, 2.9K, 4.3K, 3.5K, 3K, 2.3K, 1.6K, 2.1K, 867...\n",
      "$ Genres            <fct> \"['Adventure', 'RPG']\", \"['Adventure', 'Brawler',...\n",
      "$ Summary           <fct> \"Elden Ring is a fantasy, action and open world g...\n",
      "$ Reviews           <fct> \"[\\\"The first playthrough of elden ring is one of...\n",
      "$ Plays             <fct> 17K, 21K, 30K, 28K, 21K, 33K, 7.2K, 9.2K, 25K, 18...\n",
      "$ Playing           <fct> 3.8K, 3.2K, 2.5K, 679, 2.4K, 1.8K, 1.1K, 759, 470...\n",
      "$ Backlogs          <fct> 4.6K, 6.3K, 5K, 4.9K, 8.3K, 1.1K, 4.5K, 3.4K, 776...\n",
      "$ Wishlist          <fct> 4.8K, 3.6K, 2.6K, 1.8K, 2.3K, 230, 3.8K, 3.3K, 12...\n"
     ]
    }
   ],
   "source": [
    "#Looks at the first ten rows \n",
    "glimpse(games_data)"
   ]
  },
  {
   "cell_type": "code",
   "execution_count": null,
   "id": "65652edf",
   "metadata": {},
   "outputs": [],
   "source": [
    "# Shows the column name\n",
    "column_names = names(games_data)\n",
    "# Make all column names lowercase \n",
    "column_names = tolower(column_names)\n",
    "# Replaces all the periods in the name with underscore \n",
    "column_names <- gsub(\"\\\\.\", \"_\", column_names) \n",
    "# Changes the column names and puts them back into the main data frame\n",
    "names(games_data) = column_names\n",
    "\n",
    "# Prints the results\n",
    "print(names(games_data))"
   ]
  },
  {
   "cell_type": "code",
   "execution_count": null,
   "id": "f201bbb4",
   "metadata": {},
   "outputs": [],
   "source": [
    "# Find the number of rows in the data set\n",
    "number_of_rows <- nrow(games_data)\n",
    "\n",
    "# Print the number of rows\n",
    "print(number_of_rows)"
   ]
  },
  {
   "cell_type": "markdown",
   "id": "b913643b",
   "metadata": {},
   "source": [
    "Create one graph to quickly visualize your data. <br>\n",
    "It's okay if it is not visualy appealing or contains outliers, because we have not cleaned our data yet! Did you get any errors? If so, what were they? Would the errors have been avoided if you had cleaned the data first?<br>\n",
    "Data cleaning and transforming is very important when storing your data in a warehouse...ready for Assignment #2?"
   ]
  },
  {
   "cell_type": "code",
   "execution_count": null,
   "id": "851b69fb",
   "metadata": {
    "scrolled": true
   },
   "outputs": [],
   "source": [
    "# Converts the rating to numeric\n",
    "games_data$rating = as.numeric(games_data$rating)\n",
    "# Converst the number of reviews to numeric  \n",
    "games_data$number_of_reviews = as.numeric(games_data$number_of_reviews)\n",
    "\n",
    "# Creates the plot \n",
    "ggplot(games_data, aes(x = rating, y = number_of_reviews)) + \n",
    "# Creates the bar graph\n",
    "  geom_bar(stat = \"identity\") +\n",
    "# Setting y-axis breaks\n",
    "    scale_y_continuous(breaks = seq(0, 100000, by = 1000)) + \n",
    "# Creates the labels for the axis and title   \n",
    "labs(\n",
    "    # Plot title\n",
    "    title = \"Ratings and Reviews\", \n",
    "    # X-axis label\n",
    "    x = \"Rating\", \n",
    "    # Y-axis label\n",
    "    y = \"Number of Reviews\" \n",
    "  )"
   ]
  },
  {
   "cell_type": "code",
   "execution_count": null,
   "id": "a54f8082-b8c8-45be-a4f7-c43addae42b8",
   "metadata": {},
   "outputs": [],
   "source": [
    "# I did recieve an error when creating my graphs, I originally tried to put the video game on the x-axis but there are to many titles\n",
    "# and it was smooshed together. Then I tried to do the rating but now the y axis was smooshed so I had to extend the y-axis to show all the values. \n",
    "# I also noticed that number of reviews was a factor and not numeric.\n",
    "# I also recieved a warning that 13 rows were removed for missing data. \n"
   ]
  },
  {
   "cell_type": "markdown",
   "id": "d58383c5",
   "metadata": {},
   "source": [
    "# Dataset #2"
   ]
  },
  {
   "cell_type": "markdown",
   "id": "66a091c2",
   "metadata": {},
   "source": [
    "<b>Dataset name:U.S. Chronic Disease Indicators (CDI) </b><br>\n",
    "<b>Company/Government Organization:\tDPH Public Inquiries </b><br>\n",
    "Download link:https://data.cdc.gov/Chronic-Disease-Indicators/U-S-Chronic-Disease-Indicators-CDI-/g4ie-h725/about_data"
   ]
  },
  {
   "cell_type": "markdown",
   "id": "14708b28",
   "metadata": {},
   "source": [
    "Load any necessary libraries or packages:"
   ]
  },
  {
   "cell_type": "code",
   "execution_count": 2,
   "id": "cbdacc6b",
   "metadata": {
    "scrolled": true
   },
   "outputs": [
    {
     "name": "stderr",
     "output_type": "stream",
     "text": [
      "Registered S3 methods overwritten by 'ggplot2':\n",
      "  method         from \n",
      "  [.quosures     rlang\n",
      "  c.quosures     rlang\n",
      "  print.quosures rlang\n",
      "Registered S3 method overwritten by 'rvest':\n",
      "  method            from\n",
      "  read_xml.response xml2\n",
      "-- Attaching packages --------------------------------------- tidyverse 1.2.1 --\n",
      "v tibble  2.1.1       v dplyr   0.8.0.1\n",
      "v tidyr   0.8.3       v stringr 1.4.0  \n",
      "v purrr   0.3.2       v forcats 0.4.0  \n",
      "-- Conflicts ------------------------------------------ tidyverse_conflicts() --\n",
      "x dplyr::filter() masks stats::filter()\n",
      "x dplyr::lag()    masks stats::lag()\n"
     ]
    }
   ],
   "source": [
    "#My example libraries are below, but edit as needed to fit your dataset:\n",
    "library(readr) #Reading the CSV data file\n",
    "library(ggplot2) #Graphing\n",
    "library(tidyverse)"
   ]
  },
  {
   "cell_type": "markdown",
   "id": "f6ad53f3",
   "metadata": {},
   "source": [
    "Load your dataset into the notebook below:"
   ]
  },
  {
   "cell_type": "code",
   "execution_count": 3,
   "id": "0ccebf74",
   "metadata": {},
   "outputs": [],
   "source": [
    "# Load in the data set\n",
    "disease_data = read.csv(\"C:\\\\Users\\\\kahsw\\\\OneDrive\\\\Desktop\\\\course_major\\\\Masters\\\\3 Spring 2024\\\\Data gathering and warehousing\\\\week one\\\\Assignment one\\\\U.S._Chronic_Disease_Indicators__CDI__20240121.csv\"\n",
    ")"
   ]
  },
  {
   "cell_type": "code",
   "execution_count": 3,
   "id": "ceb94a92",
   "metadata": {},
   "outputs": [
    {
     "name": "stdout",
     "output_type": "stream",
     "text": [
      "Observations: 1,185,676\n",
      "Variables: 34\n",
      "$ YearStart                 <int> 2014, 2018, 2018, 2017, 2010, 2015, 2013,...\n",
      "$ YearEnd                   <int> 2014, 2018, 2018, 2017, 2010, 2015, 2013,...\n",
      "$ LocationAbbr              <fct> AR, CO, DC, GA, MI, MT, OR, PR, PR, WI, W...\n",
      "$ LocationDesc              <fct> Arkansas, Colorado, District of Columbia,...\n",
      "$ DataSource                <fct> SEDD; SID, SEDD; SID, SEDD; SID, SEDD; SI...\n",
      "$ Topic                     <fct> Asthma, Asthma, Asthma, Asthma, Asthma, A...\n",
      "$ Question                  <fct> Hospitalizations for asthma, Hospitalizat...\n",
      "$ Response                  <lgl> NA, NA, NA, NA, NA, NA, NA, NA, NA, NA, N...\n",
      "$ DataValueUnit             <fct> , , , , , , , , , , , , , , Number, , , N...\n",
      "$ DataValueType             <fct> Number, Number, Number, Number, Number, N...\n",
      "$ DataValue                 <fct> 916, 2227, 708, 3520, 123, , 760, , , 196...\n",
      "$ DataValueAlt              <dbl> 916, 2227, 708, 3520, 123, NA, 760, NA, N...\n",
      "$ DataValueFootnoteSymbol   <fct> , , , , , -, , -, -, , , , , , , , , , , ...\n",
      "$ DatavalueFootnote         <fct> , , , , , No data available, , No data av...\n",
      "$ LowConfidenceLimit        <dbl> NA, NA, NA, NA, NA, NA, NA, NA, NA, NA, N...\n",
      "$ HighConfidenceLimit       <dbl> NA, NA, NA, NA, NA, NA, NA, NA, NA, NA, N...\n",
      "$ StratificationCategory1   <fct> Gender, Overall, Overall, Gender, Race/Et...\n",
      "$ Stratification1           <fct> \"Male\", \"Overall\", \"Overall\", \"Female\", \"...\n",
      "$ StratificationCategory2   <lgl> NA, NA, NA, NA, NA, NA, NA, NA, NA, NA, N...\n",
      "$ Stratification2           <lgl> NA, NA, NA, NA, NA, NA, NA, NA, NA, NA, N...\n",
      "$ StratificationCategory3   <lgl> NA, NA, NA, NA, NA, NA, NA, NA, NA, NA, N...\n",
      "$ Stratification3           <lgl> NA, NA, NA, NA, NA, NA, NA, NA, NA, NA, N...\n",
      "$ GeoLocation               <fct> POINT (-92.27449074299966 34.748650124000...\n",
      "$ ResponseID                <lgl> NA, NA, NA, NA, NA, NA, NA, NA, NA, NA, N...\n",
      "$ LocationID                <int> 5, 8, 11, 13, 26, 30, 41, 72, 72, 55, 55,...\n",
      "$ TopicID                   <fct> AST, AST, AST, AST, AST, AST, AST, AST, A...\n",
      "$ QuestionID                <fct> AST3_1, AST3_1, AST3_1, AST3_1, AST3_1, A...\n",
      "$ DataValueTypeID           <fct> NMBR, NMBR, NMBR, NMBR, NMBR, NMBR, NMBR,...\n",
      "$ StratificationCategoryID1 <fct> GENDER, OVERALL, OVERALL, GENDER, RACE, R...\n",
      "$ StratificationID1         <fct> GENM, OVR, OVR, GENF, HIS, HIS, GENM, OVR...\n",
      "$ StratificationCategoryID2 <lgl> NA, NA, NA, NA, NA, NA, NA, NA, NA, NA, N...\n",
      "$ StratificationID2         <lgl> NA, NA, NA, NA, NA, NA, NA, NA, NA, NA, N...\n",
      "$ StratificationCategoryID3 <lgl> NA, NA, NA, NA, NA, NA, NA, NA, NA, NA, N...\n",
      "$ StratificationID3         <lgl> NA, NA, NA, NA, NA, NA, NA, NA, NA, NA, N...\n"
     ]
    }
   ],
   "source": [
    "#Looks at the first ten rows \n",
    "glimpse(disease_data)"
   ]
  },
  {
   "cell_type": "markdown",
   "id": "bd503196",
   "metadata": {},
   "source": [
    "What are the unique columns or variables present in your dataset? How many rows are there?"
   ]
  },
  {
   "cell_type": "code",
   "execution_count": 5,
   "id": "f3b0fd38",
   "metadata": {},
   "outputs": [
    {
     "name": "stdout",
     "output_type": "stream",
     "text": [
      "[1] 1185676\n"
     ]
    }
   ],
   "source": [
    "# Find the number of rows in the data set\n",
    "number_of_rows = nrow(disease_data)\n",
    "\n",
    "# Print the number of rows\n",
    "print(number_of_rows)"
   ]
  },
  {
   "cell_type": "code",
   "execution_count": 9,
   "id": "9ae2587f",
   "metadata": {},
   "outputs": [
    {
     "name": "stdout",
     "output_type": "stream",
     "text": [
      " [1] \"yearstart\"                 \"yearend\"                  \n",
      " [3] \"locationabbr\"              \"locationdesc\"             \n",
      " [5] \"datasource\"                \"topic\"                    \n",
      " [7] \"question\"                  \"response\"                 \n",
      " [9] \"datavalueunit\"             \"datavaluetype\"            \n",
      "[11] \"datavalue\"                 \"datavaluealt\"             \n",
      "[13] \"datavaluefootnotesymbol\"   \"datavaluefootnote\"        \n",
      "[15] \"lowconfidencelimit\"        \"highconfidencelimit\"      \n",
      "[17] \"stratificationcategory1\"   \"stratification1\"          \n",
      "[19] \"stratificationcategory2\"   \"stratification2\"          \n",
      "[21] \"stratificationcategory3\"   \"stratification3\"          \n",
      "[23] \"geolocation\"               \"responseid\"               \n",
      "[25] \"locationid\"                \"topicid\"                  \n",
      "[27] \"questionid\"                \"datavaluetypeid\"          \n",
      "[29] \"stratificationcategoryid1\" \"stratificationid1\"        \n",
      "[31] \"stratificationcategoryid2\" \"stratificationid2\"        \n",
      "[33] \"stratificationcategoryid3\" \"stratificationid3\"        \n"
     ]
    }
   ],
   "source": [
    "# Shows the column name\n",
    "column_names = names(disease_data)\n",
    "# Make all column names lowercase \n",
    "column_names = tolower(column_names)\n",
    "# Changes the column names and puts them back into the main data frame\n",
    "names(disease_data) = column_names\n",
    "\n",
    "\n",
    "# Prints the results\n",
    "print(names(disease_data))"
   ]
  },
  {
   "cell_type": "markdown",
   "id": "c1501908",
   "metadata": {},
   "source": [
    "Create one graph to quickly visualize your data. <br>\n",
    "It's okay if it is not visualy appealing or contains outliers, because we have not cleaned our data yet! Did you get any errors? If so, what were they? Would the errors have been avoided if you had cleaned the data first?<br>\n",
    "Data cleaning and transforming is very important when storing your data in a warehouse...ready for Assignment #2?"
   ]
  },
  {
   "cell_type": "code",
   "execution_count": 27,
   "id": "aebde75d",
   "metadata": {},
   "outputs": [
    {
     "data": {
      "image/png": "[encoded data removed]",
      "text/plain": [
       "plot without title"
      ]
     },
     "metadata": {},
     "output_type": "display_data"
    }
   ],
   "source": [
    "# Creates the plot \n",
    "ggplot(disease_data, aes(x =topicid , y = locationid)) + \n",
    "  # Creates the bar graph\n",
    "  geom_bar(stat = \"identity\") +\n",
    "  # Creates the labels for the axis and title   \n",
    "  labs(\n",
    "    # Plot title\n",
    "    title = \"Location Data by Year\",\n",
    "    # X-axis label\n",
    "    x = \"Topic ID\", \n",
    "    # Y-axis label\n",
    "    y = \"Location ID\" \n",
    "  )"
   ]
  },
  {
   "cell_type": "code",
   "execution_count": null,
   "id": "e6ab7e05",
   "metadata": {},
   "outputs": [],
   "source": [
    "# unlike the other graph I was unable to determine the scale of the graph on the y-axis.\n",
    "# When go through and explore the data I can try and learn what the appropriate scale is for the location ID"
   ]
  }
 ],
 "metadata": {
  "kernelspec": {
   "display_name": "R",
   "language": "R",
   "name": "ir"
  },
  "language_info": {
   "codemirror_mode": "r",
   "file_extension": ".r",
   "mimetype": "text/x-r-source",
   "name": "R",
   "pygments_lexer": "r",
   "version": "3.6.1"
  }
 },
 "nbformat": 4,
 "nbformat_minor": 5
}
